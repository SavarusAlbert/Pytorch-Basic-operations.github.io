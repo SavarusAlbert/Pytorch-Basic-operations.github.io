{
 "cells": [
  {
   "cell_type": "code",
   "execution_count": 1,
   "id": "2db9380e",
   "metadata": {},
   "outputs": [],
   "source": [
    "import torch\n",
    "import numpy as np"
   ]
  },
  {
   "cell_type": "code",
   "execution_count": 13,
   "id": "4deee8c8",
   "metadata": {},
   "outputs": [
    {
     "name": "stdout",
     "output_type": "stream",
     "text": [
      "(3, 4)\n"
     ]
    }
   ],
   "source": [
    "x = np.arange(4)\n",
    "y = np.ones((3, 4))\n",
    "print((x+y).shape)"
   ]
  },
  {
   "cell_type": "code",
   "execution_count": 14,
   "id": "f6aab6e8",
   "metadata": {},
   "outputs": [
    {
     "name": "stdout",
     "output_type": "stream",
     "text": [
      "(4, 5)\n"
     ]
    }
   ],
   "source": [
    "x = np.arange(4).reshape(4, 1)\n",
    "y = np.ones(5)\n",
    "print((x+y).shape)"
   ]
  },
  {
   "cell_type": "code",
   "execution_count": 16,
   "id": "1ccae58a",
   "metadata": {},
   "outputs": [
    {
     "data": {
      "text/plain": [
       "array([[ True,  True,  True,  True,  True],\n",
       "       [ True,  True,  True,  True,  True],\n",
       "       [ True,  True,  True,  True,  True],\n",
       "       [ True,  True,  True,  True,  True],\n",
       "       [ True,  True,  True,  True,  True]])"
      ]
     },
     "execution_count": 16,
     "metadata": {},
     "output_type": "execute_result"
    }
   ],
   "source": [
    "x = np.array([[11, 12, 13, 14, 15],\n",
    "              [16, 17, 18, 19, 20],\n",
    "              [21, 22, 23, 24, 25],\n",
    "              [26, 27, 28, 29, 30],\n",
    "              [31, 32, 33, 34, 35]])\n",
    "y = np.arange(1, 6) \n",
    "np.add(x, y)== x + y"
   ]
  },
  {
   "cell_type": "code",
   "execution_count": 17,
   "id": "accd58b7",
   "metadata": {},
   "outputs": [
    {
     "data": {
      "text/plain": [
       "array([[ True,  True,  True,  True,  True],\n",
       "       [ True,  True,  True,  True,  True],\n",
       "       [ True,  True,  True,  True,  True],\n",
       "       [ True,  True,  True,  True,  True],\n",
       "       [ True,  True,  True,  True,  True]])"
      ]
     },
     "execution_count": 17,
     "metadata": {},
     "output_type": "execute_result"
    }
   ],
   "source": [
    "np.subtract(x, y) == x - y"
   ]
  },
  {
   "cell_type": "code",
   "execution_count": 18,
   "id": "f3ed9656",
   "metadata": {},
   "outputs": [
    {
     "data": {
      "text/plain": [
       "array([[ True,  True,  True,  True,  True],\n",
       "       [ True,  True,  True,  True,  True],\n",
       "       [ True,  True,  True,  True,  True],\n",
       "       [ True,  True,  True,  True,  True],\n",
       "       [ True,  True,  True,  True,  True]])"
      ]
     },
     "execution_count": 18,
     "metadata": {},
     "output_type": "execute_result"
    }
   ],
   "source": [
    "np.multiply(x, y) == x * y"
   ]
  },
  {
   "cell_type": "code",
   "execution_count": 19,
   "id": "e2d7fc08",
   "metadata": {},
   "outputs": [
    {
     "data": {
      "text/plain": [
       "array([[ True,  True,  True,  True,  True],\n",
       "       [ True,  True,  True,  True,  True],\n",
       "       [ True,  True,  True,  True,  True],\n",
       "       [ True,  True,  True,  True,  True],\n",
       "       [ True,  True,  True,  True,  True]])"
      ]
     },
     "execution_count": 19,
     "metadata": {},
     "output_type": "execute_result"
    }
   ],
   "source": [
    "np.divide(x, y) == x / y"
   ]
  },
  {
   "cell_type": "code",
   "execution_count": 20,
   "id": "6d7d1eaa",
   "metadata": {},
   "outputs": [
    {
     "data": {
      "text/plain": [
       "array([[ True,  True,  True,  True,  True],\n",
       "       [ True,  True,  True,  True,  True],\n",
       "       [ True,  True,  True,  True,  True],\n",
       "       [ True,  True,  True,  True,  True],\n",
       "       [ True,  True,  True,  True,  True]])"
      ]
     },
     "execution_count": 20,
     "metadata": {},
     "output_type": "execute_result"
    }
   ],
   "source": [
    "np.floor_divide(x, y) == x // y"
   ]
  },
  {
   "cell_type": "code",
   "execution_count": 22,
   "id": "4ec603b7",
   "metadata": {},
   "outputs": [
    {
     "data": {
      "text/plain": [
       "array([[ True,  True,  True,  True,  True],\n",
       "       [ True,  True,  True,  True,  True],\n",
       "       [ True,  True,  True,  True,  True],\n",
       "       [ True,  True,  True,  True,  True],\n",
       "       [ True,  True,  True,  True,  True]])"
      ]
     },
     "execution_count": 22,
     "metadata": {},
     "output_type": "execute_result"
    }
   ],
   "source": [
    "np.power(x, np.full([1, 5], 2)) == x ** np.full([1, 5], 2)"
   ]
  },
  {
   "cell_type": "code",
   "execution_count": 23,
   "id": "4dbb5619",
   "metadata": {},
   "outputs": [
    {
     "data": {
      "text/plain": [
       "array([         11,         132,        1716,       24024,      360360,\n",
       "           5765760,    98017920,  1764322560,  -837609728,   427674624,\n",
       "         391232512,    17180672,   395155456,   893796352,   870072320,\n",
       "        1147043840,   905412608,  -418250752,   755630080,  1194065920,\n",
       "       -1638662144,  -897581056,   444596224, -2063597568,   788529152],\n",
       "      dtype=int32)"
      ]
     },
     "execution_count": 23,
     "metadata": {},
     "output_type": "execute_result"
    }
   ],
   "source": [
    "x = np.array([[11, 12, 13, 14, 15],\n",
    "              [16, 17, 18, 19, 20],\n",
    "              [21, 22, 23, 24, 25],\n",
    "              [26, 27, 28, 29, 30],\n",
    "              [31, 32, 33, 34, 35]])\n",
    "np.cumprod(x)"
   ]
  },
  {
   "cell_type": "code",
   "execution_count": 24,
   "id": "e45ab837",
   "metadata": {},
   "outputs": [
    {
     "data": {
      "text/plain": [
       "array([20, 20, 23, 29, 30])"
      ]
     },
     "execution_count": 24,
     "metadata": {},
     "output_type": "execute_result"
    }
   ],
   "source": [
    "x = np.array([11, 17, 23, 29, 35])\n",
    "y = np.clip(x, a_min=20, a_max=30)\n",
    "y"
   ]
  },
  {
   "cell_type": "code",
   "execution_count": 25,
   "id": "eeaf30ac",
   "metadata": {},
   "outputs": [
    {
     "data": {
      "text/plain": [
       "True"
      ]
     },
     "execution_count": 25,
     "metadata": {},
     "output_type": "execute_result"
    }
   ],
   "source": [
    "np.all([1.0, np.nan])"
   ]
  },
  {
   "cell_type": "code",
   "execution_count": 29,
   "id": "e3fc82c1",
   "metadata": {},
   "outputs": [],
   "source": [
    "x = np.random.rand(5, 5) * 10\n",
    "x = np.around(x, 2)\n",
    "y1 = np.array([np.take(x[i], np.argsort(x[i])) for i in range(5)])\n",
    "y2 = np.sort(x)"
   ]
  },
  {
   "cell_type": "code",
   "execution_count": 30,
   "id": "54292d0c",
   "metadata": {},
   "outputs": [
    {
     "data": {
      "text/plain": [
       "array([[ True,  True,  True,  True,  True],\n",
       "       [ True,  True,  True,  True,  True],\n",
       "       [ True,  True,  True,  True,  True],\n",
       "       [ True,  True,  True,  True,  True],\n",
       "       [ True,  True,  True,  True,  True]])"
      ]
     },
     "execution_count": 30,
     "metadata": {},
     "output_type": "execute_result"
    }
   ],
   "source": [
    "y1 == y2"
   ]
  },
  {
   "cell_type": "code",
   "execution_count": 31,
   "id": "003adbdd",
   "metadata": {},
   "outputs": [],
   "source": [
    "np.random.seed(100)\n",
    "x = np.random.randint(1, 30, [8, 3])"
   ]
  },
  {
   "cell_type": "code",
   "execution_count": 32,
   "id": "5fab50e0",
   "metadata": {},
   "outputs": [
    {
     "data": {
      "text/plain": [
       "array([[ 9, 25,  4],\n",
       "       [ 8, 24, 16],\n",
       "       [17, 11, 21],\n",
       "       [ 3, 22,  3],\n",
       "       [ 3, 15,  3],\n",
       "       [18, 17, 25],\n",
       "       [16,  5, 12],\n",
       "       [29, 27, 17]])"
      ]
     },
     "execution_count": 32,
     "metadata": {},
     "output_type": "execute_result"
    }
   ],
   "source": [
    "x"
   ]
  },
  {
   "cell_type": "code",
   "execution_count": 33,
   "id": "c2ace05c",
   "metadata": {},
   "outputs": [],
   "source": [
    "z = np.partition(x, kth=2, axis=0)"
   ]
  },
  {
   "cell_type": "code",
   "execution_count": 34,
   "id": "07f4509f",
   "metadata": {},
   "outputs": [
    {
     "data": {
      "text/plain": [
       "array([[ 3,  5,  3],\n",
       "       [ 3, 11,  3],\n",
       "       [ 8, 15,  4],\n",
       "       [ 9, 22, 21],\n",
       "       [17, 24, 16],\n",
       "       [18, 17, 25],\n",
       "       [16, 25, 12],\n",
       "       [29, 27, 17]])"
      ]
     },
     "execution_count": 34,
     "metadata": {},
     "output_type": "execute_result"
    }
   ],
   "source": [
    "z"
   ]
  },
  {
   "cell_type": "code",
   "execution_count": 35,
   "id": "f6f06ee6",
   "metadata": {},
   "outputs": [],
   "source": [
    "z2 = np.partition(x, kth=1, axis=0)"
   ]
  },
  {
   "cell_type": "code",
   "execution_count": 36,
   "id": "89cc5618",
   "metadata": {},
   "outputs": [
    {
     "data": {
      "text/plain": [
       "array([[ 3,  5,  3],\n",
       "       [ 3, 11,  3],\n",
       "       [17, 24, 21],\n",
       "       [ 9, 22,  4],\n",
       "       [ 8, 15, 16],\n",
       "       [18, 17, 25],\n",
       "       [16, 25, 12],\n",
       "       [29, 27, 17]])"
      ]
     },
     "execution_count": 36,
     "metadata": {},
     "output_type": "execute_result"
    }
   ],
   "source": [
    "z2"
   ]
  },
  {
   "cell_type": "code",
   "execution_count": 37,
   "id": "e897fd62",
   "metadata": {},
   "outputs": [],
   "source": [
    "z = np.partition(x, kth=0, axis=0)"
   ]
  },
  {
   "cell_type": "code",
   "execution_count": 38,
   "id": "eaf65a69",
   "metadata": {},
   "outputs": [
    {
     "data": {
      "text/plain": [
       "array([[ 3,  5,  3],\n",
       "       [ 8, 24, 16],\n",
       "       [17, 11, 21],\n",
       "       [ 9, 22,  4],\n",
       "       [ 3, 15,  3],\n",
       "       [18, 17, 25],\n",
       "       [16, 25, 12],\n",
       "       [29, 27, 17]])"
      ]
     },
     "execution_count": 38,
     "metadata": {},
     "output_type": "execute_result"
    }
   ],
   "source": [
    "z"
   ]
  },
  {
   "cell_type": "code",
   "execution_count": 40,
   "id": "b7d2ea4c",
   "metadata": {},
   "outputs": [],
   "source": [
    "x = np.array([5, 1, 6, 7, 8, 4])"
   ]
  },
  {
   "cell_type": "code",
   "execution_count": 41,
   "id": "952238ac",
   "metadata": {},
   "outputs": [],
   "source": [
    "y = np.partition(x, kth=2, axis=0)"
   ]
  },
  {
   "cell_type": "code",
   "execution_count": 42,
   "id": "60b727ac",
   "metadata": {},
   "outputs": [
    {
     "data": {
      "text/plain": [
       "array([1, 4, 5, 7, 8, 6])"
      ]
     },
     "execution_count": 42,
     "metadata": {},
     "output_type": "execute_result"
    }
   ],
   "source": [
    "y"
   ]
  },
  {
   "cell_type": "code",
   "execution_count": 70,
   "id": "d71a1769",
   "metadata": {},
   "outputs": [],
   "source": [
    "x = np.array([[3, 0, 0], [0, 4, 0], [5, 6, 0]])\n",
    "y = np.nonzero(x)"
   ]
  },
  {
   "cell_type": "code",
   "execution_count": 81,
   "id": "27f7973d",
   "metadata": {},
   "outputs": [
    {
     "data": {
      "text/plain": [
       "array([3, 4, 5, 6])"
      ]
     },
     "execution_count": 81,
     "metadata": {},
     "output_type": "execute_result"
    }
   ],
   "source": [
    "x[y]"
   ]
  },
  {
   "cell_type": "code",
   "execution_count": 82,
   "id": "4cd7278e",
   "metadata": {},
   "outputs": [
    {
     "data": {
      "text/plain": [
       "array([[0, 0],\n",
       "       [1, 1],\n",
       "       [2, 0],\n",
       "       [2, 1]], dtype=int64)"
      ]
     },
     "execution_count": 82,
     "metadata": {},
     "output_type": "execute_result"
    }
   ],
   "source": [
    "np.transpose(y)"
   ]
  },
  {
   "cell_type": "code",
   "execution_count": 83,
   "id": "107f8ebe",
   "metadata": {},
   "outputs": [],
   "source": [
    "x = np.array([[[0, 1], [1, 0]], [[0, 1], [1, 0]], [[0, 0], [1, 0]]])"
   ]
  },
  {
   "cell_type": "code",
   "execution_count": 84,
   "id": "aea779ac",
   "metadata": {},
   "outputs": [],
   "source": [
    "y = np.nonzero(x)"
   ]
  },
  {
   "cell_type": "code",
   "execution_count": 85,
   "id": "f1ed88f8",
   "metadata": {},
   "outputs": [
    {
     "data": {
      "text/plain": [
       "array([1, 1, 1, 1, 1])"
      ]
     },
     "execution_count": 85,
     "metadata": {},
     "output_type": "execute_result"
    }
   ],
   "source": [
    "x[y]"
   ]
  },
  {
   "cell_type": "code",
   "execution_count": 86,
   "id": "c2b7f737",
   "metadata": {},
   "outputs": [
    {
     "data": {
      "text/plain": [
       "array([[0, 0, 1],\n",
       "       [0, 1, 0],\n",
       "       [1, 0, 1],\n",
       "       [1, 1, 0],\n",
       "       [2, 1, 0]], dtype=int64)"
      ]
     },
     "execution_count": 86,
     "metadata": {},
     "output_type": "execute_result"
    }
   ],
   "source": [
    "np.transpose(y)"
   ]
  },
  {
   "cell_type": "code",
   "execution_count": 87,
   "id": "18860b83",
   "metadata": {},
   "outputs": [
    {
     "data": {
      "text/plain": [
       "(array([0, 0, 1, 1, 2], dtype=int64),\n",
       " array([0, 1, 0, 1, 1], dtype=int64),\n",
       " array([1, 0, 1, 0, 0], dtype=int64))"
      ]
     },
     "execution_count": 87,
     "metadata": {},
     "output_type": "execute_result"
    }
   ],
   "source": [
    "y"
   ]
  },
  {
   "cell_type": "code",
   "execution_count": 88,
   "id": "2f526ce8",
   "metadata": {},
   "outputs": [],
   "source": [
    "x = np.arange(10)\n",
    "y = np.where(x < 5, x, 10 * x)\n",
    "z = np.where(x > 7)"
   ]
  },
  {
   "cell_type": "code",
   "execution_count": 89,
   "id": "d0440d98",
   "metadata": {},
   "outputs": [
    {
     "data": {
      "text/plain": [
       "array([ 0,  1,  2,  3,  4, 50, 60, 70, 80, 90])"
      ]
     },
     "execution_count": 89,
     "metadata": {},
     "output_type": "execute_result"
    }
   ],
   "source": [
    "y"
   ]
  },
  {
   "cell_type": "code",
   "execution_count": 90,
   "id": "d04d4854",
   "metadata": {},
   "outputs": [
    {
     "data": {
      "text/plain": [
       "(array([8, 9], dtype=int64),)"
      ]
     },
     "execution_count": 90,
     "metadata": {},
     "output_type": "execute_result"
    }
   ],
   "source": [
    "z"
   ]
  },
  {
   "cell_type": "code",
   "execution_count": 91,
   "id": "55ccdb43",
   "metadata": {},
   "outputs": [],
   "source": [
    "x = np.array(['a', 'b', 'b', 'c', 'a'])\n",
    "y, index, inverse, counts = np.unique(x, return_index=True, return_inverse=True, return_counts=True)"
   ]
  },
  {
   "cell_type": "code",
   "execution_count": 92,
   "id": "89e167d7",
   "metadata": {},
   "outputs": [
    {
     "data": {
      "text/plain": [
       "(array(['a', 'b', 'c'], dtype='<U1'),\n",
       " array([0, 1, 3], dtype=int64),\n",
       " array([0, 1, 1, 2, 0], dtype=int64),\n",
       " array([2, 2, 1], dtype=int64))"
      ]
     },
     "execution_count": 92,
     "metadata": {},
     "output_type": "execute_result"
    }
   ],
   "source": [
    "y, index, inverse, counts"
   ]
  },
  {
   "cell_type": "code",
   "execution_count": 95,
   "id": "23d6fcb0",
   "metadata": {},
   "outputs": [
    {
     "data": {
      "text/plain": [
       "array([3])"
      ]
     },
     "execution_count": 95,
     "metadata": {},
     "output_type": "execute_result"
    }
   ],
   "source": [
    "from functools import reduce\n",
    "reduce(np.intersect1d, ([1, 3, 4, 3], [3, 1, 2, 1], [6, 3, 4, 2]))"
   ]
  },
  {
   "cell_type": "code",
   "execution_count": null,
   "id": "0162a5a5",
   "metadata": {},
   "outputs": [],
   "source": []
  }
 ],
 "metadata": {
  "kernelspec": {
   "display_name": "Python 3 (ipykernel)",
   "language": "python",
   "name": "python3"
  },
  "language_info": {
   "codemirror_mode": {
    "name": "ipython",
    "version": 3
   },
   "file_extension": ".py",
   "mimetype": "text/x-python",
   "name": "python",
   "nbconvert_exporter": "python",
   "pygments_lexer": "ipython3",
   "version": "3.9.12"
  }
 },
 "nbformat": 4,
 "nbformat_minor": 5
}
