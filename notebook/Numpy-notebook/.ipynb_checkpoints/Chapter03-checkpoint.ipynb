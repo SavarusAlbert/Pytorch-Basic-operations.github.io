{
 "cells": [
  {
   "cell_type": "code",
   "execution_count": 2,
   "id": "d5ef76c8",
   "metadata": {},
   "outputs": [],
   "source": [
    "import numpy as np"
   ]
  },
  {
   "cell_type": "code",
   "execution_count": 3,
   "id": "57dfeb3a",
   "metadata": {},
   "outputs": [],
   "source": [
    "np.random.seed(20200614)\n",
    "size = 50000\n",
    "x = np.random.randn(size)"
   ]
  },
  {
   "cell_type": "code",
   "execution_count": 4,
   "id": "93960aee",
   "metadata": {},
   "outputs": [
    {
     "data": {
      "text/plain": [
       "array([ 0.79308468,  0.8177404 ,  0.98209304, ...,  0.1732716 ,\n",
       "        0.21571349, -0.78804003])"
      ]
     },
     "execution_count": 4,
     "metadata": {},
     "output_type": "execute_result"
    }
   ],
   "source": [
    "x"
   ]
  },
  {
   "cell_type": "code",
   "execution_count": 11,
   "id": "4308ed9b",
   "metadata": {},
   "outputs": [
    {
     "data": {
      "text/plain": [
       "array([ True,  True,  True, ...,  True,  True,  True])"
      ]
     },
     "execution_count": 11,
     "metadata": {},
     "output_type": "execute_result"
    }
   ],
   "source": [
    "x < 1"
   ]
  },
  {
   "cell_type": "code",
   "execution_count": 6,
   "id": "8e65b16e",
   "metadata": {},
   "outputs": [
    {
     "data": {
      "text/plain": [
       "48914"
      ]
     },
     "execution_count": 6,
     "metadata": {},
     "output_type": "execute_result"
    }
   ],
   "source": [
    "np.sum(x < 2)"
   ]
  },
  {
   "cell_type": "code",
   "execution_count": 7,
   "id": "c571aaff",
   "metadata": {},
   "outputs": [
    {
     "data": {
      "text/plain": [
       "49939"
      ]
     },
     "execution_count": 7,
     "metadata": {},
     "output_type": "execute_result"
    }
   ],
   "source": [
    "np.sum(x < 3)"
   ]
  },
  {
   "cell_type": "code",
   "execution_count": 12,
   "id": "9b419d23",
   "metadata": {},
   "outputs": [
    {
     "name": "stdout",
     "output_type": "stream",
     "text": [
      "[3 0 2]\n"
     ]
    }
   ],
   "source": [
    "np.random.seed(20200614)\n",
    "x = np.random.choice(10, 3, replace=False, p=[0.05, 0, 0.05, 0.9, 0, 0, 0, 0, 0, 0])\n",
    "print(x)"
   ]
  },
  {
   "cell_type": "code",
   "execution_count": 13,
   "id": "11c92d15",
   "metadata": {},
   "outputs": [],
   "source": [
    "np.random.seed(20200623)\n",
    "x = np.random.randint(0, 20, size=[4, 5])"
   ]
  },
  {
   "cell_type": "code",
   "execution_count": 14,
   "id": "b34cdd62",
   "metadata": {},
   "outputs": [
    {
     "data": {
      "text/plain": [
       "array([[10,  2,  1,  1, 16],\n",
       "       [18, 11, 10, 14, 10],\n",
       "       [11,  1,  9, 18,  8],\n",
       "       [16,  2,  0, 15, 16]])"
      ]
     },
     "execution_count": 14,
     "metadata": {},
     "output_type": "execute_result"
    }
   ],
   "source": [
    "x"
   ]
  },
  {
   "cell_type": "code",
   "execution_count": 21,
   "id": "aaf98160",
   "metadata": {},
   "outputs": [],
   "source": [
    "x.sort()"
   ]
  },
  {
   "cell_type": "code",
   "execution_count": 22,
   "id": "01dbe50a",
   "metadata": {},
   "outputs": [
    {
     "data": {
      "text/plain": [
       "array([[ 0,  1,  2, 10, 16],\n",
       "       [ 1,  2,  9, 11, 16],\n",
       "       [ 1,  8, 11, 14, 18],\n",
       "       [10, 10, 15, 16, 18]])"
      ]
     },
     "execution_count": 22,
     "metadata": {},
     "output_type": "execute_result"
    }
   ],
   "source": [
    "x"
   ]
  },
  {
   "cell_type": "code",
   "execution_count": 23,
   "id": "16d5bf58",
   "metadata": {},
   "outputs": [],
   "source": [
    "x.sort(axis=0)"
   ]
  },
  {
   "cell_type": "code",
   "execution_count": 24,
   "id": "e49af677",
   "metadata": {},
   "outputs": [
    {
     "data": {
      "text/plain": [
       "array([[ 0,  1,  2, 10, 16],\n",
       "       [ 1,  2,  9, 11, 16],\n",
       "       [ 1,  8, 11, 14, 18],\n",
       "       [10, 10, 15, 16, 18]])"
      ]
     },
     "execution_count": 24,
     "metadata": {},
     "output_type": "execute_result"
    }
   ],
   "source": [
    "x"
   ]
  },
  {
   "cell_type": "code",
   "execution_count": 25,
   "id": "a84bdb29",
   "metadata": {},
   "outputs": [
    {
     "data": {
      "text/plain": [
       "array([ 2., 10.])"
      ]
     },
     "execution_count": 25,
     "metadata": {},
     "output_type": "execute_result"
    }
   ],
   "source": [
    "np.random.seed(20200623)\n",
    "x = np.random.randint(0, 20, size=[4, 5])\n",
    "np.percentile(x, [25, 50])"
   ]
  },
  {
   "cell_type": "code",
   "execution_count": 26,
   "id": "47e103ed",
   "metadata": {},
   "outputs": [
    {
     "data": {
      "text/plain": [
       "array([[10,  2,  1,  1, 16],\n",
       "       [18, 11, 10, 14, 10],\n",
       "       [11,  1,  9, 18,  8],\n",
       "       [16,  2,  0, 15, 16]])"
      ]
     },
     "execution_count": 26,
     "metadata": {},
     "output_type": "execute_result"
    }
   ],
   "source": [
    "x"
   ]
  },
  {
   "cell_type": "code",
   "execution_count": 27,
   "id": "41d0dc0f",
   "metadata": {},
   "outputs": [
    {
     "data": {
      "text/plain": [
       "array([[10.75,  1.75,  0.75, 10.75,  9.5 ],\n",
       "       [13.5 ,  2.  ,  5.  , 14.5 , 13.  ]])"
      ]
     },
     "execution_count": 27,
     "metadata": {},
     "output_type": "execute_result"
    }
   ],
   "source": [
    "np.percentile(x, [25, 50], axis=0)"
   ]
  },
  {
   "cell_type": "code",
   "execution_count": 28,
   "id": "88dfb91e",
   "metadata": {},
   "outputs": [],
   "source": [
    "x = np.array(range(11, 36)).reshape(5,5)"
   ]
  },
  {
   "cell_type": "code",
   "execution_count": 29,
   "id": "f3faa32c",
   "metadata": {},
   "outputs": [
    {
     "data": {
      "text/plain": [
       "array([[11, 12, 13, 14, 15],\n",
       "       [16, 17, 18, 19, 20],\n",
       "       [21, 22, 23, 24, 25],\n",
       "       [26, 27, 28, 29, 30],\n",
       "       [31, 32, 33, 34, 35]])"
      ]
     },
     "execution_count": 29,
     "metadata": {},
     "output_type": "execute_result"
    }
   ],
   "source": [
    "x"
   ]
  },
  {
   "cell_type": "code",
   "execution_count": 30,
   "id": "a74e50cb",
   "metadata": {},
   "outputs": [
    {
     "data": {
      "text/plain": [
       "23.0"
      ]
     },
     "execution_count": 30,
     "metadata": {},
     "output_type": "execute_result"
    }
   ],
   "source": [
    "np.average(x)"
   ]
  },
  {
   "cell_type": "code",
   "execution_count": 31,
   "id": "c0946d2e",
   "metadata": {},
   "outputs": [],
   "source": [
    "x2 = np.arange(1, 26).reshape([5, 5])"
   ]
  },
  {
   "cell_type": "code",
   "execution_count": 32,
   "id": "b0ab30ab",
   "metadata": {},
   "outputs": [],
   "source": [
    "z = np.average(x, weights=x2)"
   ]
  },
  {
   "cell_type": "code",
   "execution_count": 33,
   "id": "43d11452",
   "metadata": {},
   "outputs": [
    {
     "data": {
      "text/plain": [
       "27.0"
      ]
     },
     "execution_count": 33,
     "metadata": {},
     "output_type": "execute_result"
    }
   ],
   "source": [
    "z"
   ]
  },
  {
   "cell_type": "code",
   "execution_count": 35,
   "id": "6a2950e4",
   "metadata": {},
   "outputs": [],
   "source": [
    "z = np.average(x, axis=0, weights=x2)"
   ]
  },
  {
   "cell_type": "code",
   "execution_count": 36,
   "id": "65645f57",
   "metadata": {},
   "outputs": [
    {
     "data": {
      "text/plain": [
       "array([25.54545455, 26.16666667, 26.84615385, 27.57142857, 28.33333333])"
      ]
     },
     "execution_count": 36,
     "metadata": {},
     "output_type": "execute_result"
    }
   ],
   "source": [
    "z"
   ]
  },
  {
   "cell_type": "code",
   "execution_count": 37,
   "id": "1811e040",
   "metadata": {},
   "outputs": [],
   "source": [
    "x = np.array([[0, 2], [1, 1], [2, 0]]).T"
   ]
  },
  {
   "cell_type": "code",
   "execution_count": 38,
   "id": "77a0c6bc",
   "metadata": {},
   "outputs": [
    {
     "data": {
      "text/plain": [
       "array([[ 1., -1.],\n",
       "       [-1.,  1.]])"
      ]
     },
     "execution_count": 38,
     "metadata": {},
     "output_type": "execute_result"
    }
   ],
   "source": [
    "np.cov(x)"
   ]
  },
  {
   "cell_type": "code",
   "execution_count": null,
   "id": "bc757ce4",
   "metadata": {},
   "outputs": [],
   "source": []
  }
 ],
 "metadata": {
  "kernelspec": {
   "display_name": "Python 3 (ipykernel)",
   "language": "python",
   "name": "python3"
  },
  "language_info": {
   "codemirror_mode": {
    "name": "ipython",
    "version": 3
   },
   "file_extension": ".py",
   "mimetype": "text/x-python",
   "name": "python",
   "nbconvert_exporter": "python",
   "pygments_lexer": "ipython3",
   "version": "3.9.12"
  }
 },
 "nbformat": 4,
 "nbformat_minor": 5
}
