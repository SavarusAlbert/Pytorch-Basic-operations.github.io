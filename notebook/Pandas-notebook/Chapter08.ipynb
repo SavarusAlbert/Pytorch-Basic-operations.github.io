{
 "cells": [
  {
   "cell_type": "code",
   "execution_count": 1,
   "id": "2f5205af",
   "metadata": {},
   "outputs": [],
   "source": [
    "import numpy as np\n",
    "import pandas as pd"
   ]
  },
  {
   "cell_type": "code",
   "execution_count": 2,
   "id": "6a0e9bb4",
   "metadata": {},
   "outputs": [],
   "source": [
    "df = pd.read_csv('data/learn_pandas.csv',\n",
    "     usecols = ['Grade', 'Name', 'Gender', 'Height', 'Weight'])"
   ]
  },
  {
   "cell_type": "code",
   "execution_count": 3,
   "id": "b75cf36f",
   "metadata": {},
   "outputs": [
    {
     "data": {
      "text/html": [
       "<div>\n",
       "<style scoped>\n",
       "    .dataframe tbody tr th:only-of-type {\n",
       "        vertical-align: middle;\n",
       "    }\n",
       "\n",
       "    .dataframe tbody tr th {\n",
       "        vertical-align: top;\n",
       "    }\n",
       "\n",
       "    .dataframe thead th {\n",
       "        text-align: right;\n",
       "    }\n",
       "</style>\n",
       "<table border=\"1\" class=\"dataframe\">\n",
       "  <thead>\n",
       "    <tr style=\"text-align: right;\">\n",
       "      <th></th>\n",
       "      <th>Grade</th>\n",
       "      <th>Name</th>\n",
       "      <th>Gender</th>\n",
       "      <th>Height</th>\n",
       "      <th>Weight</th>\n",
       "    </tr>\n",
       "  </thead>\n",
       "  <tbody>\n",
       "    <tr>\n",
       "      <th>0</th>\n",
       "      <td>Freshman</td>\n",
       "      <td>Gaopeng Yang</td>\n",
       "      <td>Female</td>\n",
       "      <td>158.9</td>\n",
       "      <td>46.0</td>\n",
       "    </tr>\n",
       "    <tr>\n",
       "      <th>1</th>\n",
       "      <td>Freshman</td>\n",
       "      <td>Changqiang You</td>\n",
       "      <td>Male</td>\n",
       "      <td>166.5</td>\n",
       "      <td>70.0</td>\n",
       "    </tr>\n",
       "    <tr>\n",
       "      <th>2</th>\n",
       "      <td>Senior</td>\n",
       "      <td>Mei Sun</td>\n",
       "      <td>Male</td>\n",
       "      <td>188.9</td>\n",
       "      <td>89.0</td>\n",
       "    </tr>\n",
       "    <tr>\n",
       "      <th>3</th>\n",
       "      <td>Sophomore</td>\n",
       "      <td>Xiaojuan Sun</td>\n",
       "      <td>Female</td>\n",
       "      <td>NaN</td>\n",
       "      <td>41.0</td>\n",
       "    </tr>\n",
       "    <tr>\n",
       "      <th>4</th>\n",
       "      <td>Sophomore</td>\n",
       "      <td>Gaojuan You</td>\n",
       "      <td>Male</td>\n",
       "      <td>174.0</td>\n",
       "      <td>74.0</td>\n",
       "    </tr>\n",
       "    <tr>\n",
       "      <th>...</th>\n",
       "      <td>...</td>\n",
       "      <td>...</td>\n",
       "      <td>...</td>\n",
       "      <td>...</td>\n",
       "      <td>...</td>\n",
       "    </tr>\n",
       "    <tr>\n",
       "      <th>195</th>\n",
       "      <td>Junior</td>\n",
       "      <td>Xiaojuan Sun</td>\n",
       "      <td>Female</td>\n",
       "      <td>153.9</td>\n",
       "      <td>46.0</td>\n",
       "    </tr>\n",
       "    <tr>\n",
       "      <th>196</th>\n",
       "      <td>Senior</td>\n",
       "      <td>Li Zhao</td>\n",
       "      <td>Female</td>\n",
       "      <td>160.9</td>\n",
       "      <td>50.0</td>\n",
       "    </tr>\n",
       "    <tr>\n",
       "      <th>197</th>\n",
       "      <td>Senior</td>\n",
       "      <td>Chengqiang Chu</td>\n",
       "      <td>Female</td>\n",
       "      <td>153.9</td>\n",
       "      <td>45.0</td>\n",
       "    </tr>\n",
       "    <tr>\n",
       "      <th>198</th>\n",
       "      <td>Senior</td>\n",
       "      <td>Chengmei Shen</td>\n",
       "      <td>Male</td>\n",
       "      <td>175.3</td>\n",
       "      <td>71.0</td>\n",
       "    </tr>\n",
       "    <tr>\n",
       "      <th>199</th>\n",
       "      <td>Sophomore</td>\n",
       "      <td>Chunpeng Lv</td>\n",
       "      <td>Male</td>\n",
       "      <td>155.7</td>\n",
       "      <td>51.0</td>\n",
       "    </tr>\n",
       "  </tbody>\n",
       "</table>\n",
       "<p>200 rows × 5 columns</p>\n",
       "</div>"
      ],
      "text/plain": [
       "         Grade            Name  Gender  Height  Weight\n",
       "0     Freshman    Gaopeng Yang  Female   158.9    46.0\n",
       "1     Freshman  Changqiang You    Male   166.5    70.0\n",
       "2       Senior         Mei Sun    Male   188.9    89.0\n",
       "3    Sophomore    Xiaojuan Sun  Female     NaN    41.0\n",
       "4    Sophomore     Gaojuan You    Male   174.0    74.0\n",
       "..         ...             ...     ...     ...     ...\n",
       "195     Junior    Xiaojuan Sun  Female   153.9    46.0\n",
       "196     Senior         Li Zhao  Female   160.9    50.0\n",
       "197     Senior  Chengqiang Chu  Female   153.9    45.0\n",
       "198     Senior   Chengmei Shen    Male   175.3    71.0\n",
       "199  Sophomore     Chunpeng Lv    Male   155.7    51.0\n",
       "\n",
       "[200 rows x 5 columns]"
      ]
     },
     "execution_count": 3,
     "metadata": {},
     "output_type": "execute_result"
    }
   ],
   "source": [
    "df"
   ]
  },
  {
   "cell_type": "code",
   "execution_count": 4,
   "id": "e25d5e8a",
   "metadata": {},
   "outputs": [],
   "source": [
    "s = df.Grade.astype('category')"
   ]
  },
  {
   "cell_type": "code",
   "execution_count": 6,
   "id": "a0554c20",
   "metadata": {},
   "outputs": [
    {
     "data": {
      "text/plain": [
       "0       Freshman\n",
       "1       Freshman\n",
       "2         Senior\n",
       "3      Sophomore\n",
       "4      Sophomore\n",
       "         ...    \n",
       "195       Junior\n",
       "196       Senior\n",
       "197       Senior\n",
       "198       Senior\n",
       "199    Sophomore\n",
       "Name: Grade, Length: 200, dtype: category\n",
       "Categories (4, object): ['Freshman', 'Junior', 'Senior', 'Sophomore']"
      ]
     },
     "execution_count": 6,
     "metadata": {},
     "output_type": "execute_result"
    }
   ],
   "source": [
    "s"
   ]
  },
  {
   "cell_type": "code",
   "execution_count": 7,
   "id": "7f8498f0",
   "metadata": {},
   "outputs": [
    {
     "data": {
      "text/plain": [
       "0      0\n",
       "1      0\n",
       "2      2\n",
       "3      3\n",
       "4      3\n",
       "      ..\n",
       "195    1\n",
       "196    2\n",
       "197    2\n",
       "198    2\n",
       "199    3\n",
       "Length: 200, dtype: int8"
      ]
     },
     "execution_count": 7,
     "metadata": {},
     "output_type": "execute_result"
    }
   ],
   "source": [
    "s.cat.codes"
   ]
  },
  {
   "cell_type": "code",
   "execution_count": 10,
   "id": "3abc9e7b",
   "metadata": {},
   "outputs": [],
   "source": [
    "df.Grade = df.Grade.astype('category')\n",
    "df.Grade = df.Grade.cat.reorder_categories(['Sophomore',\n",
    "                                            'Freshman',\n",
    "                                            'Junior',\n",
    "                                            'Senior'],ordered=True)"
   ]
  },
  {
   "cell_type": "code",
   "execution_count": 21,
   "id": "60bc5ce2",
   "metadata": {},
   "outputs": [
    {
     "data": {
      "text/html": [
       "<div>\n",
       "<style scoped>\n",
       "    .dataframe tbody tr th:only-of-type {\n",
       "        vertical-align: middle;\n",
       "    }\n",
       "\n",
       "    .dataframe tbody tr th {\n",
       "        vertical-align: top;\n",
       "    }\n",
       "\n",
       "    .dataframe thead th {\n",
       "        text-align: right;\n",
       "    }\n",
       "</style>\n",
       "<table border=\"1\" class=\"dataframe\">\n",
       "  <thead>\n",
       "    <tr style=\"text-align: right;\">\n",
       "      <th></th>\n",
       "      <th>Grade</th>\n",
       "      <th>Name</th>\n",
       "      <th>Gender</th>\n",
       "      <th>Height</th>\n",
       "      <th>Weight</th>\n",
       "    </tr>\n",
       "  </thead>\n",
       "  <tbody>\n",
       "    <tr>\n",
       "      <th>199</th>\n",
       "      <td>Sophomore</td>\n",
       "      <td>Chunpeng Lv</td>\n",
       "      <td>Male</td>\n",
       "      <td>155.7</td>\n",
       "      <td>51.0</td>\n",
       "    </tr>\n",
       "    <tr>\n",
       "      <th>120</th>\n",
       "      <td>Sophomore</td>\n",
       "      <td>Peng Han</td>\n",
       "      <td>Female</td>\n",
       "      <td>147.8</td>\n",
       "      <td>34.0</td>\n",
       "    </tr>\n",
       "    <tr>\n",
       "      <th>29</th>\n",
       "      <td>Sophomore</td>\n",
       "      <td>Changmei Xu</td>\n",
       "      <td>Female</td>\n",
       "      <td>151.6</td>\n",
       "      <td>43.0</td>\n",
       "    </tr>\n",
       "    <tr>\n",
       "      <th>110</th>\n",
       "      <td>Sophomore</td>\n",
       "      <td>Xiaomei Shi</td>\n",
       "      <td>Female</td>\n",
       "      <td>157.9</td>\n",
       "      <td>47.0</td>\n",
       "    </tr>\n",
       "    <tr>\n",
       "      <th>106</th>\n",
       "      <td>Sophomore</td>\n",
       "      <td>Qiang Sun</td>\n",
       "      <td>Female</td>\n",
       "      <td>154.3</td>\n",
       "      <td>40.0</td>\n",
       "    </tr>\n",
       "    <tr>\n",
       "      <th>...</th>\n",
       "      <td>...</td>\n",
       "      <td>...</td>\n",
       "      <td>...</td>\n",
       "      <td>...</td>\n",
       "      <td>...</td>\n",
       "    </tr>\n",
       "    <tr>\n",
       "      <th>161</th>\n",
       "      <td>Senior</td>\n",
       "      <td>Quan Qian</td>\n",
       "      <td>Female</td>\n",
       "      <td>159.0</td>\n",
       "      <td>50.0</td>\n",
       "    </tr>\n",
       "    <tr>\n",
       "      <th>103</th>\n",
       "      <td>Senior</td>\n",
       "      <td>Mei Chen</td>\n",
       "      <td>Female</td>\n",
       "      <td>153.6</td>\n",
       "      <td>NaN</td>\n",
       "    </tr>\n",
       "    <tr>\n",
       "      <th>165</th>\n",
       "      <td>Senior</td>\n",
       "      <td>Feng Han</td>\n",
       "      <td>Male</td>\n",
       "      <td>170.1</td>\n",
       "      <td>69.0</td>\n",
       "    </tr>\n",
       "    <tr>\n",
       "      <th>18</th>\n",
       "      <td>Senior</td>\n",
       "      <td>Xiaofeng Sun</td>\n",
       "      <td>Male</td>\n",
       "      <td>170.3</td>\n",
       "      <td>71.0</td>\n",
       "    </tr>\n",
       "    <tr>\n",
       "      <th>131</th>\n",
       "      <td>Senior</td>\n",
       "      <td>Chengpeng Qian</td>\n",
       "      <td>Male</td>\n",
       "      <td>177.2</td>\n",
       "      <td>73.0</td>\n",
       "    </tr>\n",
       "  </tbody>\n",
       "</table>\n",
       "<p>200 rows × 5 columns</p>\n",
       "</div>"
      ],
      "text/plain": [
       "         Grade            Name  Gender  Height  Weight\n",
       "199  Sophomore     Chunpeng Lv    Male   155.7    51.0\n",
       "120  Sophomore        Peng Han  Female   147.8    34.0\n",
       "29   Sophomore     Changmei Xu  Female   151.6    43.0\n",
       "110  Sophomore     Xiaomei Shi  Female   157.9    47.0\n",
       "106  Sophomore       Qiang Sun  Female   154.3    40.0\n",
       "..         ...             ...     ...     ...     ...\n",
       "161     Senior       Quan Qian  Female   159.0    50.0\n",
       "103     Senior        Mei Chen  Female   153.6     NaN\n",
       "165     Senior        Feng Han    Male   170.1    69.0\n",
       "18      Senior    Xiaofeng Sun    Male   170.3    71.0\n",
       "131     Senior  Chengpeng Qian    Male   177.2    73.0\n",
       "\n",
       "[200 rows x 5 columns]"
      ]
     },
     "execution_count": 21,
     "metadata": {},
     "output_type": "execute_result"
    }
   ],
   "source": [
    "df.sort_values('Grade')"
   ]
  },
  {
   "cell_type": "code",
   "execution_count": 22,
   "id": "eaa3729c",
   "metadata": {},
   "outputs": [
    {
     "data": {
      "text/plain": [
       "0      False\n",
       "1      False\n",
       "2      False\n",
       "3       True\n",
       "4       True\n",
       "       ...  \n",
       "195    False\n",
       "196    False\n",
       "197    False\n",
       "198    False\n",
       "199     True\n",
       "Name: Grade, Length: 200, dtype: bool"
      ]
     },
     "execution_count": 22,
     "metadata": {},
     "output_type": "execute_result"
    }
   ],
   "source": [
    "df.Grade == 'Sophomore'"
   ]
  },
  {
   "cell_type": "code",
   "execution_count": 24,
   "id": "edec311c",
   "metadata": {},
   "outputs": [],
   "source": [
    "res2 = df.Grade == ['PhD']*df.shape[0]"
   ]
  },
  {
   "cell_type": "code",
   "execution_count": 25,
   "id": "845b25e4",
   "metadata": {},
   "outputs": [
    {
     "data": {
      "text/plain": [
       "False    200\n",
       "Name: Grade, dtype: int64"
      ]
     },
     "execution_count": 25,
     "metadata": {},
     "output_type": "execute_result"
    }
   ],
   "source": [
    "res2.value_counts()"
   ]
  },
  {
   "cell_type": "code",
   "execution_count": 26,
   "id": "77016077",
   "metadata": {},
   "outputs": [],
   "source": [
    "res4 = df.Grade <= df.Grade.sample(frac=1).reset_index(drop=True)"
   ]
  },
  {
   "cell_type": "code",
   "execution_count": 31,
   "id": "9a959690",
   "metadata": {},
   "outputs": [
    {
     "data": {
      "text/plain": [
       "116      Senior\n",
       "168      Senior\n",
       "127      Senior\n",
       "34     Freshman\n",
       "92       Senior\n",
       "         ...   \n",
       "164      Junior\n",
       "16       Junior\n",
       "131      Senior\n",
       "82       Junior\n",
       "57     Freshman\n",
       "Name: Grade, Length: 200, dtype: category\n",
       "Categories (4, object): ['Sophomore' < 'Freshman' < 'Junior' < 'Senior']"
      ]
     },
     "execution_count": 31,
     "metadata": {},
     "output_type": "execute_result"
    }
   ],
   "source": [
    "df.Grade.sample(frac=1)"
   ]
  },
  {
   "cell_type": "code",
   "execution_count": 37,
   "id": "d6db04e6",
   "metadata": {},
   "outputs": [
    {
     "data": {
      "text/plain": [
       "0    (0.9, 1.2]\n",
       "1    (1.2, 2.3]\n",
       "dtype: category\n",
       "Categories (3, interval[float64]): [(-inf, 0.9] < (0.9, 1.2] < (1.2, 2.3]]"
      ]
     },
     "execution_count": 37,
     "metadata": {},
     "output_type": "execute_result"
    }
   ],
   "source": [
    "s = pd.Series([1,2])\n",
    "pd.cut(s, bins=[-np.infty, 0.9, 1.2, 2.3])"
   ]
  },
  {
   "cell_type": "code",
   "execution_count": 38,
   "id": "8d70630e",
   "metadata": {},
   "outputs": [
    {
     "data": {
      "text/plain": [
       "(0    small\n",
       " 1      big\n",
       " dtype: category\n",
       " Categories (2, object): ['small' < 'big'],\n",
       " array([0.999, 1.5  , 2.   ]))"
      ]
     },
     "execution_count": 38,
     "metadata": {},
     "output_type": "execute_result"
    }
   ],
   "source": [
    "pd.cut(s, bins=2, labels=['small', 'big'], retbins=True)"
   ]
  },
  {
   "cell_type": "code",
   "execution_count": 39,
   "id": "ecd83c42",
   "metadata": {},
   "outputs": [],
   "source": [
    "s = df.Weight"
   ]
  },
  {
   "cell_type": "code",
   "execution_count": 40,
   "id": "634c0f07",
   "metadata": {},
   "outputs": [
    {
     "data": {
      "text/plain": [
       "0      46.0\n",
       "1      70.0\n",
       "2      89.0\n",
       "3      41.0\n",
       "4      74.0\n",
       "       ... \n",
       "195    46.0\n",
       "196    50.0\n",
       "197    45.0\n",
       "198    71.0\n",
       "199    51.0\n",
       "Name: Weight, Length: 200, dtype: float64"
      ]
     },
     "execution_count": 40,
     "metadata": {},
     "output_type": "execute_result"
    }
   ],
   "source": [
    "s"
   ]
  },
  {
   "cell_type": "code",
   "execution_count": 48,
   "id": "646f0bba",
   "metadata": {},
   "outputs": [],
   "source": [
    "s1 = pd.qcut(s, q=3)"
   ]
  },
  {
   "cell_type": "code",
   "execution_count": 49,
   "id": "b5ac8765",
   "metadata": {},
   "outputs": [],
   "source": [
    "s2 = pd.qcut(s, q=[0.2,0.8,1])"
   ]
  },
  {
   "cell_type": "code",
   "execution_count": 50,
   "id": "f73b2829",
   "metadata": {},
   "outputs": [
    {
     "data": {
      "text/plain": [
       "(33.999, 48.0]    70\n",
       "(55.0, 89.0]      61\n",
       "(48.0, 55.0]      58\n",
       "Name: Weight, dtype: int64"
      ]
     },
     "execution_count": 50,
     "metadata": {},
     "output_type": "execute_result"
    }
   ],
   "source": [
    "s1.value_counts()"
   ]
  },
  {
   "cell_type": "code",
   "execution_count": 54,
   "id": "5900f393",
   "metadata": {},
   "outputs": [
    {
     "data": {
      "text/plain": [
       "0      (33.945, 52.333]\n",
       "1      (52.333, 70.667]\n",
       "2        (70.667, 89.0]\n",
       "3      (33.945, 52.333]\n",
       "4        (70.667, 89.0]\n",
       "             ...       \n",
       "195    (33.945, 52.333]\n",
       "196    (33.945, 52.333]\n",
       "197    (33.945, 52.333]\n",
       "198      (70.667, 89.0]\n",
       "199    (33.945, 52.333]\n",
       "Name: Weight, Length: 200, dtype: category\n",
       "Categories (3, interval[float64]): [(33.945, 52.333] < (52.333, 70.667] < (70.667, 89.0]]"
      ]
     },
     "execution_count": 54,
     "metadata": {},
     "output_type": "execute_result"
    }
   ],
   "source": [
    "pd.cut(s, 3)"
   ]
  },
  {
   "cell_type": "code",
   "execution_count": 51,
   "id": "c07d2fb9",
   "metadata": {},
   "outputs": [],
   "source": [
    "id_interval = pd.IntervalIndex(pd.cut(s, 3))"
   ]
  },
  {
   "cell_type": "code",
   "execution_count": 52,
   "id": "6eca7327",
   "metadata": {},
   "outputs": [],
   "source": [
    "id_demo = id_interval[:5]"
   ]
  },
  {
   "cell_type": "code",
   "execution_count": 53,
   "id": "ee110fb6",
   "metadata": {},
   "outputs": [
    {
     "data": {
      "text/plain": [
       "IntervalIndex([(33.945, 52.333], (52.333, 70.667], (70.667, 89.0], (33.945, 52.333], (70.667, 89.0]],\n",
       "              closed='right',\n",
       "              name='Weight',\n",
       "              dtype='interval[float64]')"
      ]
     },
     "execution_count": 53,
     "metadata": {},
     "output_type": "execute_result"
    }
   ],
   "source": [
    "id_demo"
   ]
  },
  {
   "cell_type": "code",
   "execution_count": 55,
   "id": "cd100b4a",
   "metadata": {},
   "outputs": [
    {
     "data": {
      "text/plain": [
       "Float64Index([33.945, 52.333, 70.667, 33.945, 70.667], dtype='float64')"
      ]
     },
     "execution_count": 55,
     "metadata": {},
     "output_type": "execute_result"
    }
   ],
   "source": [
    "id_demo.left"
   ]
  },
  {
   "cell_type": "code",
   "execution_count": null,
   "id": "4a1f51f1",
   "metadata": {},
   "outputs": [],
   "source": []
  }
 ],
 "metadata": {
  "kernelspec": {
   "display_name": "Python 3 (ipykernel)",
   "language": "python",
   "name": "python3"
  },
  "language_info": {
   "codemirror_mode": {
    "name": "ipython",
    "version": 3
   },
   "file_extension": ".py",
   "mimetype": "text/x-python",
   "name": "python",
   "nbconvert_exporter": "python",
   "pygments_lexer": "ipython3",
   "version": "3.9.12"
  }
 },
 "nbformat": 4,
 "nbformat_minor": 5
}
